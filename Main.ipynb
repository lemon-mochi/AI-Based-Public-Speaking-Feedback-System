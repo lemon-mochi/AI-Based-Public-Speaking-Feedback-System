{
  "nbformat": 4,
  "nbformat_minor": 0,
  "metadata": {
    "colab": {
      "provenance": []
    },
    "kernelspec": {
      "name": "python3",
      "display_name": "Python 3"
    },
    "language_info": {
      "name": "python"
    }
  },
  "cells": [
    {
      "cell_type": "code",
      "execution_count": null,
      "metadata": {
        "id": "cjhfiF-_K_VV"
      },
      "outputs": [],
      "source": [
        "import numpy as np\n",
        "import matplotlib.pyplot as plt\n",
        "import pandas as pd"
      ]
    },
    {
      "cell_type": "markdown",
      "source": [
        "# Data Preprocessing\n"
      ],
      "metadata": {
        "id": "CsatUxaLLFkV"
      }
    },
    {
      "cell_type": "code",
      "source": [],
      "metadata": {
        "id": "oC8FyLZcLGiF"
      },
      "execution_count": null,
      "outputs": []
    }
  ]
}