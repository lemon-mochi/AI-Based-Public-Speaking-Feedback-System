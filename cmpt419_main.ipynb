{
 "cells": [
  {
   "cell_type": "code",
   "execution_count": 29,
   "id": "bdf5d1df",
   "metadata": {},
   "outputs": [],
   "source": [
    "import os\n",
    "import pandas as pd\n",
    "\n",
    "root_folder = \"./speech_audio\"  # contains Unclear/, Moderate/, Confident/\n",
    "data = []\n",
    "\n",
    "for label in [\"Unclear\", \"Moderate\", \"Confident\"]:\n",
    "    folder_path = os.path.join(root_folder, label)\n",
    "    for fname in os.listdir(folder_path):\n",
    "        if fname.endswith(\".wav\") or fname.endswith(\".mp3\"):\n",
    "            data.append([os.path.join(folder_path, fname), label])\n",
    "\n",
    "df = pd.DataFrame(data, columns=[\"filename\", \"label\"])\n",
    "df.to_csv(\"labeled_audio_dataset.csv\", index=False)\n"
   ]
  },
  {
   "cell_type": "code",
   "execution_count": 30,
   "id": "93f1d092",
   "metadata": {},
   "outputs": [],
   "source": [
    "import noisereduce as nr\n",
    "def denoise_audio(y, sr):\n",
    "    return nr.reduce_noise(y=y, sr=sr)"
   ]
  },
  {
   "cell_type": "code",
   "execution_count": 31,
   "id": "322fc069",
   "metadata": {},
   "outputs": [],
   "source": [
    "import librosa\n",
    "import numpy as np\n",
    "import noisereduce as nr  #  Added import\n",
    "\n",
    "def denoise_audio(y, sr):\n",
    "    return nr.reduce_noise(y=y, sr=sr)\n",
    "\n",
    "def extract_features(file_path):\n",
    "    try:\n",
    "        y, sr = librosa.load(file_path, sr=16000)\n",
    "\n",
    "        #  Apply noise reduction\n",
    "        y = denoise_audio(y, sr)\n",
    "\n",
    "        # --- MFCC Features (mean of 40 coefficients) ---\n",
    "        mfcc = librosa.feature.mfcc(y=y, sr=sr, n_mfcc=40)\n",
    "        mfcc_mean = np.mean(mfcc, axis=1)\n",
    "        mfcc_variance = np.var(mfcc)\n",
    "\n",
    "        # --- Pitch (F0) Features ---\n",
    "        f0, _, _ = librosa.pyin(y, fmin=50, fmax=300)\n",
    "        f0_mean = np.nanmean(f0) if np.any(~np.isnan(f0)) else 0\n",
    "        pitch_variation = np.nanstd(f0) if np.any(~np.isnan(f0)) else 0\n",
    "\n",
    "        # --- Energy (RMS) Features ---\n",
    "        rms = librosa.feature.rms(y=y).flatten()\n",
    "        rms_mean = np.mean(rms)\n",
    "        energy_stability = np.std(rms)\n",
    "\n",
    "        # --- Pause-related Features ---\n",
    "        pause_threshold = 0.01\n",
    "        pause_frames = rms <= pause_threshold\n",
    "        pause_frequency = np.sum(pause_frames)\n",
    "        pause_duration = np.sum(pause_frames) * (512 / sr)\n",
    "        speaking_rate = np.sum(rms > pause_threshold)\n",
    "\n",
    "        # --- Articulation Rate (simplified as RMS mean) ---\n",
    "        articulation_rate = rms_mean\n",
    "\n",
    "        return [\n",
    "            file_path,\n",
    "            *mfcc_mean,\n",
    "            f0_mean,\n",
    "            pitch_variation,\n",
    "            rms_mean,\n",
    "            energy_stability,\n",
    "            pause_frequency,\n",
    "            pause_duration,\n",
    "            speaking_rate,\n",
    "            mfcc_variance,\n",
    "            articulation_rate\n",
    "        ]\n",
    "\n",
    "    except Exception as e:\n",
    "        print(f\"Error processing {file_path}: {e}\")\n",
    "        return None"
   ]
  },
  {
   "cell_type": "code",
   "execution_count": 20,
   "id": "1fba73b0",
   "metadata": {},
   "outputs": [
    {
     "name": "stderr",
     "output_type": "stream",
     "text": [
      "  3%|█▏                                       | 53/1849 [00:05<03:24,  8.79it/s]/Users/aroofapanjwani/Desktop/Spring_2025/Cmpt_419/AI-Based-Public-Speaking-Feedback-System/419venv/lib/python3.10/site-packages/noisereduce/spectralgate/nonstationary.py:70: RuntimeWarning: invalid value encountered in divide\n",
      "  sig_mult_above_thresh = (abs_sig_stft - sig_stft_smooth) / sig_stft_smooth\n",
      "/Users/aroofapanjwani/Desktop/Spring_2025/Cmpt_419/AI-Based-Public-Speaking-Feedback-System/419venv/lib/python3.10/site-packages/librosa/util/decorators.py:88: UserWarning: n_fft=2048 is too small for input signal of length=0\n",
      "  return f(*args, **kwargs)\n",
      "100%|███████████████████████████████████████| 1849/1849 [04:54<00:00,  6.27it/s]"
     ]
    },
    {
     "name": "stdout",
     "output_type": "stream",
     "text": [
      "Feature extraction complete. Saved to features_with_labels.csv!\n"
     ]
    },
    {
     "name": "stderr",
     "output_type": "stream",
     "text": [
      "\n"
     ]
    }
   ],
   "source": [
    "import pandas as pd\n",
    "from tqdm import tqdm\n",
    "\n",
    "# STEP 1: Load your labeled file list\n",
    "df_labels = pd.read_csv(\"labeled_audio_dataset.csv\")  # already created earlier\n",
    "all_audio_files = df_labels[\"filename\"].tolist()\n",
    "all_labels = df_labels[\"label\"].tolist()\n",
    "\n",
    "# STEP 2: Extract features and collect them\n",
    "features = []\n",
    "for file_path, label in tqdm(zip(all_audio_files, all_labels), total=len(all_labels)):\n",
    "    feats = extract_features(file_path)\n",
    "    if feats:\n",
    "        features.append(feats + [label])  # Append label at the end\n",
    "\n",
    "# STEP 3: Define column names\n",
    "columns = (\n",
    "    [\"filename\"] +\n",
    "    [f\"mfcc_{i}\" for i in range(40)] +\n",
    "    [\"f0_mean\", \"pitch_variation\", \"rms_mean\", \"energy_stability\",\n",
    "     \"pause_frequency\", \"pause_duration\", \"speaking_rate\",\n",
    "     \"mfcc_variance\", \"articulation_rate\",\n",
    "     \"label\"]  # last column is your class label\n",
    ")\n",
    "\n",
    "# STEP 4: Convert to DataFrame\n",
    "df_features = pd.DataFrame(features, columns=columns)\n",
    "\n",
    "# STEP 5: Save to CSV\n",
    "df_features.to_csv(\"features_with_labels.csv\", index=False)\n",
    "print(\"Feature extraction complete. Saved to features_with_labels.csv!\")"
   ]
  },
  {
   "cell_type": "code",
   "execution_count": 47,
   "id": "f756ca99",
   "metadata": {},
   "outputs": [
    {
     "data": {
      "text/plain": [
       "['supervised_scaler.pkl']"
      ]
     },
     "execution_count": 47,
     "metadata": {},
     "output_type": "execute_result"
    }
   ],
   "source": [
    "import pandas as pd\n",
    "from sklearn.model_selection import train_test_split, StratifiedKFold\n",
    "from sklearn.preprocessing import StandardScaler\n",
    "from sklearn.ensemble import RandomForestClassifier\n",
    "from sklearn.metrics import classification_report, confusion_matrix\n",
    "from sklearn.model_selection import cross_val_score\n",
    "from sklearn.model_selection import GridSearchCV\n",
    "import seaborn as sns\n",
    "import matplotlib.pyplot as plt\n",
    "import joblib\n",
    "\n",
    "df = pd.read_csv(\"features_with_labels.csv\")\n",
    "\n",
    "X = df.drop(columns=[\"filename\", \"label\"] + [f\"mfcc_{i}\" for i in range(40)])\n",
    "y = df[\"label\"]\n",
    "\n",
    "# Train-test split\n",
    "X_train, X_test, y_train, y_test = train_test_split(\n",
    "    X, y, test_size=0.2, stratify=y, random_state=42\n",
    ")\n",
    "\n",
    "# Feature scaling\n",
    "scaler = StandardScaler()\n",
    "X_train_scaled = scaler.fit_transform(X_train)\n",
    "X_test_scaled = scaler.transform(X_test)\n",
    "\n",
    "\n",
    "joblib.dump(scaler, \"supervised_scaler.pkl\")"
   ]
  },
  {
   "cell_type": "code",
   "execution_count": 48,
   "id": "6a423bf0",
   "metadata": {},
   "outputs": [
    {
     "name": "stdout",
     "output_type": "stream",
     "text": [
      "Fitting 5 folds for each of 12 candidates, totalling 60 fits\n",
      "Best Parameters: {'max_depth': 10, 'min_samples_split': 2, 'n_estimators': 100}\n"
     ]
    },
    {
     "data": {
      "text/plain": [
       "['speech_feedback_model.pkl']"
      ]
     },
     "execution_count": 48,
     "metadata": {},
     "output_type": "execute_result"
    }
   ],
   "source": [
    "# Define hyperparameter grid\n",
    "param_grid = {\n",
    "    \"n_estimators\": [100, 200],\n",
    "    \"max_depth\": [10, 20, None],\n",
    "    \"min_samples_split\": [2, 5]\n",
    "}\n",
    "\n",
    "cv = StratifiedKFold(n_splits=5, shuffle=True, random_state=42)\n",
    "\n",
    "# Run GridSearchCV with cross-validation\n",
    "grid_search = GridSearchCV(\n",
    "    estimator=RandomForestClassifier(random_state=42, class_weight=\"balanced\"),\n",
    "    param_grid=param_grid,\n",
    "    cv=cv,\n",
    "    scoring=\"f1_macro\",\n",
    "    n_jobs=-1,\n",
    "    verbose=1\n",
    ")\n",
    "\n",
    "grid_search.fit(X_train_scaled, y_train)\n",
    "\n",
    "# Best model\n",
    "model = grid_search.best_estimator_\n",
    "print(\"Best Parameters:\", grid_search.best_params_)\n",
    "\n",
    "joblib.dump(model, \"speech_feedback_model.pkl\")"
   ]
  },
  {
   "cell_type": "code",
   "execution_count": 50,
   "id": "1317bc6c",
   "metadata": {},
   "outputs": [
    {
     "name": "stdout",
     "output_type": "stream",
     "text": [
      "Classification Report:\n",
      "\n",
      "              precision    recall  f1-score   support\n",
      "\n",
      "   Confident       0.99      1.00      1.00       152\n",
      "    Moderate       0.95      0.87      0.91        92\n",
      "     Unclear       0.92      0.97      0.94       126\n",
      "\n",
      "    accuracy                           0.96       370\n",
      "   macro avg       0.95      0.95      0.95       370\n",
      "weighted avg       0.96      0.96      0.96       370\n",
      "\n"
     ]
    },
    {
     "data": {
      "image/png": "[encoded data removed]",
      "text/plain": [
       "<Figure size 640x480 with 2 Axes>"
      ]
     },
     "metadata": {},
     "output_type": "display_data"
    }
   ],
   "source": [
    "# Evaluate the model\n",
    "y_pred = model.predict(X_test_scaled)\n",
    "\n",
    "print(\"Classification Report:\\n\")\n",
    "print(classification_report(y_test, y_pred))\n",
    "\n",
    "# Confusion matrix\n",
    "labels_order = [\"Confident\", \"Moderate\", \"Unclear\"]\n",
    "cm = confusion_matrix(y_test, y_pred, labels=labels_order)\n",
    "\n",
    "sns.heatmap(cm, annot=True, fmt='d', cmap='Blues',\n",
    "            xticklabels=labels_order,\n",
    "            yticklabels=labels_order)\n",
    "plt.xlabel(\"Predicted\")\n",
    "plt.ylabel(\"Actual\")\n",
    "plt.title(\"Confusion Matrix\")\n",
    "plt.show()"
   ]
  },
  {
   "cell_type": "code",
   "execution_count": 51,
   "id": "b7b43da4",
   "metadata": {},
   "outputs": [],
   "source": [
    "def generate_feedback(predicted_label):\n",
    "    feedback_dict = {\n",
    "        \"Confident\": \"Great job! Your speech is fluent and confident.\",\n",
    "        \"Moderate\": \"Your speech is moderate. Try adding more energy and variation.\",\n",
    "        \"Unclear\": \"Your speech seems unclear. Try reducing pauses and improving clarity.\"\n",
    "    }\n",
    "    return feedback_dict.get(predicted_label, \"Unable to generate feedback.\")"
   ]
  },
  {
   "cell_type": "code",
   "execution_count": 45,
   "id": "e3b0d681",
   "metadata": {},
   "outputs": [],
   "source": [
    "def predict_and_feedback(file_path):\n",
    "    features = extract_features(file_path)\n",
    "    if features is None:\n",
    "        print(\"Feature extraction failed.\")\n",
    "        return None, None\n",
    "\n",
    "    # Extract only the final 9 features used in training\n",
    "    feature_vector = features[-9:]\n",
    "\n",
    "    # Load model and scaler\n",
    "    model = joblib.load(\"speech_feedback_model.pkl\")\n",
    "    scaler = joblib.load(\"supervised_scaler.pkl\")\n",
    "\n",
    "    # Prepare input as a DataFrame\n",
    "    input_df = pd.DataFrame([feature_vector], columns=[\n",
    "        \"f0_mean\", \"pitch_variation\", \"rms_mean\", \"energy_stability\",\n",
    "        \"pause_frequency\", \"pause_duration\", \"speaking_rate\",\n",
    "        \"mfcc_variance\", \"articulation_rate\"\n",
    "    ])\n",
    "\n",
    "    # Scale and predict\n",
    "    input_scaled = scaler.transform(input_df)\n",
    "    predicted_label = model.predict(input_scaled)[0]\n",
    "\n",
    "    # Generate feedback\n",
    "    feedback = generate_feedback(predicted_label)\n",
    "\n",
    "    print(f\"Predicted Category: {predicted_label}\")\n",
    "    print(f\"Feedback: {feedback}\")\n",
    "    return predicted_label, feedback\n"
   ]
  },
  {
   "cell_type": "code",
   "execution_count": 62,
   "id": "9680edc9",
   "metadata": {},
   "outputs": [
    {
     "name": "stdout",
     "output_type": "stream",
     "text": [
      "Predicted Category: Unclear\n",
      "Feedback: Your speech seems unclear. Try reducing pauses and improving clarity.\n"
     ]
    },
    {
     "data": {
      "text/plain": [
       "('Unclear',\n",
       " 'Your speech seems unclear. Try reducing pauses and improving clarity.')"
      ]
     },
     "execution_count": 62,
     "metadata": {},
     "output_type": "execute_result"
    }
   ],
   "source": [
    "# Example usage\n",
    "predict_and_feedback(\"./Test_audio/Bad_Speaking_21.wav\")"
   ]
  },
  {
   "cell_type": "code",
   "execution_count": null,
   "id": "5d607d91",
   "metadata": {},
   "outputs": [],
   "source": []
  }
 ],
 "metadata": {
  "kernelspec": {
   "display_name": "Python (419venv)",
   "language": "python",
   "name": "venv"
  },
  "language_info": {
   "codemirror_mode": {
    "name": "ipython",
    "version": 3
   },
   "file_extension": ".py",
   "mimetype": "text/x-python",
   "name": "python",
   "nbconvert_exporter": "python",
   "pygments_lexer": "ipython3",
   "version": "3.10.9"
  }
 },
 "nbformat": 4,
 "nbformat_minor": 5
}
