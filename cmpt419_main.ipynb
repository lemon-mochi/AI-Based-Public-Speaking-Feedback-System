{
 "cells": [
  {
   "cell_type": "code",
   "execution_count": null,
   "id": "5df279e3",
   "metadata": {},
   "outputs": [],
   "source": [
    "import os\n",
    "import pandas as pd\n",
    "import noisereduce as nr\n",
    "import librosa\n",
    "import numpy as np\n",
    "from tqdm import tqdm\n",
    "from sklearn.model_selection import train_test_split\n",
    "from sklearn.preprocessing import StandardScaler\n",
    "from sklearn.ensemble import RandomForestClassifier\n",
    "from sklearn.metrics import classification_report, confusion_matrix\n",
    "import seaborn as sns\n",
    "import matplotlib.pyplot as plt\n",
    "import joblib"
   ]
  },
  {
   "cell_type": "code",
   "execution_count": null,
   "id": "ecc40cb8",
   "metadata": {},
   "outputs": [],
   "source": [
    "root_folder = \"./speech_audio\"  # contains Unclear/, Moderate/, Confident/\n",
    "data = []\n",
    "\n",
    "for label in [\"Unclear\", \"Moderate\", \"Confident\"]:\n",
    "    folder_path = os.path.join(root_folder, label)\n",
    "    for fname in os.listdir(folder_path):\n",
    "        if fname.endswith(\".wav\") or fname.endswith(\".mp3\"):\n",
    "            data.append([os.path.join(folder_path, fname), label])\n",
    "\n",
    "df = pd.DataFrame(data, columns=[\"filename\", \"label\"])\n",
    "df.to_csv(\"labeled_audio_dataset.csv\", index=False)\n"
   ]
  },
  {
   "cell_type": "code",
   "execution_count": null,
   "id": "8ddb262b",
   "metadata": {},
   "outputs": [
    {
     "name": "stderr",
     "output_type": "stream",
     "text": [
      "/Users/aroofapanjwani/Desktop/Spring_2025/Cmpt_419/AI-Based-Public-Speaking-Feedback-System/419venv/lib/python3.10/site-packages/tqdm/auto.py:21: TqdmWarning: IProgress not found. Please update jupyter and ipywidgets. See https://ipywidgets.readthedocs.io/en/stable/user_install.html\n",
      "  from .autonotebook import tqdm as notebook_tqdm\n"
     ]
    }
   ],
   "source": [
    "def denoise_audio(y, sr):\n",
    "    return nr.reduce_noise(y=y, sr=sr)"
   ]
  },
  {
   "cell_type": "code",
   "execution_count": null,
   "id": "a3229b0f",
   "metadata": {},
   "outputs": [],
   "source": [
    "def denoise_audio(y, sr):\n",
    "    return nr.reduce_noise(y=y, sr=sr)\n",
    "\n",
    "def extract_features(file_path):\n",
    "    try:\n",
    "        y, sr = librosa.load(file_path, sr=16000)\n",
    "\n",
    "        # Apply noise reduction\n",
    "        y = denoise_audio(y, sr)\n",
    "\n",
    "        # --- MFCC Features (mean of 40 coefficients) ---\n",
    "        mfcc = librosa.feature.mfcc(y=y, sr=sr, n_mfcc=40)\n",
    "        mfcc_mean = np.mean(mfcc, axis=1)\n",
    "        mfcc_variance = np.var(mfcc)\n",
    "\n",
    "        # --- Pitch (F0) Features ---\n",
    "        f0, _, _ = librosa.pyin(y, fmin=50, fmax=300)\n",
    "        f0_mean = np.nanmean(f0) if np.any(~np.isnan(f0)) else 0\n",
    "        pitch_variation = np.nanstd(f0) if np.any(~np.isnan(f0)) else 0\n",
    "\n",
    "        # --- Energy (RMS) Features ---\n",
    "        rms = librosa.feature.rms(y=y).flatten()\n",
    "        rms_mean = np.mean(rms)\n",
    "        energy_stability = np.std(rms)\n",
    "\n",
    "        # --- Pause-related Features ---\n",
    "        pause_threshold = 0.01\n",
    "        pause_frames = rms <= pause_threshold\n",
    "        pause_frequency = np.sum(pause_frames)\n",
    "        pause_duration = np.sum(pause_frames) * (512 / sr)\n",
    "        speaking_rate = np.sum(rms > pause_threshold)\n",
    "\n",
    "        # --- Articulation Rate (simplified as RMS mean) ---\n",
    "        articulation_rate = rms_mean\n",
    "\n",
    "        return [\n",
    "            file_path,\n",
    "            *mfcc_mean,\n",
    "            f0_mean,\n",
    "            pitch_variation,\n",
    "            rms_mean,\n",
    "            energy_stability,\n",
    "            pause_frequency,\n",
    "            pause_duration,\n",
    "            speaking_rate,\n",
    "            mfcc_variance,\n",
    "            articulation_rate\n",
    "        ]\n",
    "\n",
    "    except Exception as e:\n",
    "        print(f\"Error processing {file_path}: {e}\")\n",
    "        return None"
   ]
  },
  {
   "cell_type": "code",
   "execution_count": null,
   "id": "46f2d8dd",
   "metadata": {},
   "outputs": [
    {
     "name": "stderr",
     "output_type": "stream",
     "text": [
      "  3%|█▏                                       | 53/1849 [00:06<03:27,  8.64it/s]/Users/aroofapanjwani/Desktop/Spring_2025/Cmpt_419/AI-Based-Public-Speaking-Feedback-System/419venv/lib/python3.10/site-packages/noisereduce/spectralgate/nonstationary.py:70: RuntimeWarning: invalid value encountered in divide\n",
      "  sig_mult_above_thresh = (abs_sig_stft - sig_stft_smooth) / sig_stft_smooth\n",
      "/Users/aroofapanjwani/Desktop/Spring_2025/Cmpt_419/AI-Based-Public-Speaking-Feedback-System/419venv/lib/python3.10/site-packages/librosa/util/decorators.py:88: UserWarning: n_fft=2048 is too small for input signal of length=0\n",
      "  return f(*args, **kwargs)\n",
      "  5%|██▏                                      | 96/1849 [00:12<03:18,  8.82it/s]/Users/aroofapanjwani/Desktop/Spring_2025/Cmpt_419/AI-Based-Public-Speaking-Feedback-System/419venv/lib/python3.10/site-packages/noisereduce/spectralgate/nonstationary.py:70: RuntimeWarning: invalid value encountered in divide\n",
      "  sig_mult_above_thresh = (abs_sig_stft - sig_stft_smooth) / sig_stft_smooth\n",
      "/Users/aroofapanjwani/Desktop/Spring_2025/Cmpt_419/AI-Based-Public-Speaking-Feedback-System/419venv/lib/python3.10/site-packages/librosa/util/decorators.py:88: UserWarning: n_fft=2048 is too small for input signal of length=0\n",
      "  return f(*args, **kwargs)\n",
      "100%|███████████████████████████████████████| 1849/1849 [04:52<00:00,  6.31it/s]"
     ]
    },
    {
     "name": "stdout",
     "output_type": "stream",
     "text": [
      "Feature extraction complete. Saved to features_with_labels.csv!\n"
     ]
    },
    {
     "name": "stderr",
     "output_type": "stream",
     "text": [
      "\n"
     ]
    }
   ],
   "source": [
    "# STEP 1: Load our labeled file list\n",
    "df_labels = pd.read_csv(\"labeled_audio_dataset.csv\")  # already created earlier\n",
    "all_audio_files = df_labels[\"filename\"].tolist()\n",
    "all_labels = df_labels[\"label\"].tolist()\n",
    "\n",
    "# STEP 2: Extract features and collect them\n",
    "features = []\n",
    "for file_path, label in tqdm(zip(all_audio_files, all_labels), total=len(all_labels)):\n",
    "    feats = extract_features(file_path)\n",
    "    if feats:\n",
    "        features.append(feats + [label])  # Append label at the end\n",
    "\n",
    "# STEP 3: Define column names\n",
    "columns = (\n",
    "    [\"filename\"] +\n",
    "    [f\"mfcc_{i}\" for i in range(40)] +\n",
    "    [\"f0_mean\", \"pitch_variation\", \"rms_mean\", \"energy_stability\",\n",
    "     \"pause_frequency\", \"pause_duration\", \"speaking_rate\",\n",
    "     \"mfcc_variance\", \"articulation_rate\",\n",
    "     \"label\"]  # last column is our class label\n",
    ")\n",
    "\n",
    "# STEP 4: Convert to DataFrame\n",
    "df_features = pd.DataFrame(features, columns=columns)\n",
    "\n",
    "# STEP 5: Save to CSV\n",
    "df_features.to_csv(\"features_with_labels.csv\", index=False)\n",
    "print(\"Feature extraction complete. Saved to features_with_labels.csv!\")"
   ]
  },
  {
   "cell_type": "code",
   "execution_count": null,
   "id": "3db9b654",
   "metadata": {},
   "outputs": [
    {
     "name": "stdout",
     "output_type": "stream",
     "text": [
      "Classification Report:\n",
      "\n",
      "              precision    recall  f1-score   support\n",
      "\n",
      "   Confident       0.99      1.00      1.00       152\n",
      "    Moderate       0.94      0.86      0.90        92\n",
      "     Unclear       0.91      0.96      0.93       126\n",
      "\n",
      "    accuracy                           0.95       370\n",
      "   macro avg       0.95      0.94      0.94       370\n",
      "weighted avg       0.95      0.95      0.95       370\n",
      "\n"
     ]
    },
    {
     "data": {
      "image/png": "[encoded data removed]",
      "text/plain": [
       "<Figure size 640x480 with 2 Axes>"
      ]
     },
     "metadata": {},
     "output_type": "display_data"
    }
   ],
   "source": [
    "# STEP 1: Load feature dataset\n",
    "df = pd.read_csv(\"features_with_labels.csv\")\n",
    "\n",
    "# STEP 2: Prepare features and labels\n",
    "X = df.drop(columns=[\"filename\", \"label\"] + [f\"mfcc_{i}\" for i in range(40)])\n",
    "y = df[\"label\"]\n",
    "\n",
    "# STEP 3: Train-test split\n",
    "X_train, X_test, y_train, y_test = train_test_split(\n",
    "    X, y, test_size=0.2, stratify=y, random_state=42\n",
    ")\n",
    "\n",
    "# STEP 4: Feature scaling\n",
    "scaler = StandardScaler()\n",
    "X_train_scaled = scaler.fit_transform(X_train)\n",
    "X_test_scaled = scaler.transform(X_test)\n",
    "\n",
    "# Save the scaler\n",
    "joblib.dump(scaler, \"supervised_scaler.pkl\")\n",
    "\n",
    "# STEP 5: Train the model\n",
    "model = RandomForestClassifier(n_estimators=100, random_state=42)\n",
    "model.fit(X_train_scaled, y_train)\n",
    "\n",
    "# Save the trained model\n",
    "joblib.dump(model, \"speech_feedback_model.pkl\")\n",
    "\n",
    "# STEP 6: Evaluate the model\n",
    "y_pred = model.predict(X_test_scaled)\n",
    "\n",
    "print(\"Classification Report:\\n\")\n",
    "print(classification_report(y_test, y_pred))\n",
    "\n",
    "# Confusion matrix\n",
    "labels_order = [\"Confident\", \"Moderate\", \"Unclear\"]\n",
    "cm = confusion_matrix(y_test, y_pred, labels=labels_order)\n",
    "\n",
    "sns.heatmap(cm, annot=True, fmt='d', cmap='Blues',\n",
    "            xticklabels=labels_order,\n",
    "            yticklabels=labels_order)\n",
    "plt.xlabel(\"Predicted\")\n",
    "plt.ylabel(\"Actual\")\n",
    "plt.title(\"Confusion Matrix\")\n",
    "plt.show()\n"
   ]
  },
  {
   "cell_type": "code",
   "execution_count": 6,
   "id": "b886567f",
   "metadata": {},
   "outputs": [],
   "source": [
    "def generate_feedback(predicted_label):\n",
    "    feedback_dict = {\n",
    "        \"Confident\": \"Great job! Your speech is fluent and confident.\",\n",
    "        \"Moderate\": \"Your speech is moderate. Try adding more energy and variation.\",\n",
    "        \"Unclear\": \"Your speech seems unclear. Try reducing pauses and improving clarity.\"\n",
    "    }\n",
    "    return feedback_dict.get(predicted_label, \"Unable to generate feedback.\")"
   ]
  },
  {
   "cell_type": "code",
   "execution_count": 7,
   "id": "e8a3df7a",
   "metadata": {},
   "outputs": [],
   "source": [
    "def predict_and_feedback(file_path):\n",
    "    features = extract_features(file_path)\n",
    "    if features is None:\n",
    "        print(\"Feature extraction failed.\")\n",
    "        return None, None\n",
    "\n",
    "    # Extract only the final 9 features used in training\n",
    "    feature_vector = features[-9:]\n",
    "\n",
    "    # Load model and scaler\n",
    "    model = joblib.load(\"speech_feedback_model.pkl\")\n",
    "    scaler = joblib.load(\"supervised_scaler.pkl\")\n",
    "\n",
    "    # Prepare input as a DataFrame\n",
    "    input_df = pd.DataFrame([feature_vector], columns=[\n",
    "        \"f0_mean\", \"pitch_variation\", \"rms_mean\", \"energy_stability\",\n",
    "        \"pause_frequency\", \"pause_duration\", \"speaking_rate\",\n",
    "        \"mfcc_variance\", \"articulation_rate\"\n",
    "    ])\n",
    "\n",
    "    # Scale and predict\n",
    "    input_scaled = scaler.transform(input_df)\n",
    "    predicted_label = model.predict(input_scaled)[0]\n",
    "\n",
    "    # Generate feedback\n",
    "    feedback = generate_feedback(predicted_label)\n",
    "\n",
    "    print(f\"Predicted Category: {predicted_label}\")\n",
    "    print(f\"Feedback: {feedback}\")\n",
    "    return predicted_label, feedback\n"
   ]
  },
  {
   "cell_type": "code",
   "execution_count": 15,
   "id": "fe04194b",
   "metadata": {},
   "outputs": [
    {
     "name": "stdout",
     "output_type": "stream",
     "text": [
      "Predicted Category: Moderate\n",
      "Feedback: Your speech is moderate. Try adding more energy and variation.\n"
     ]
    },
    {
     "data": {
      "text/plain": [
       "('Moderate', 'Your speech is moderate. Try adding more energy and variation.')"
      ]
     },
     "execution_count": 15,
     "metadata": {},
     "output_type": "execute_result"
    }
   ],
   "source": [
    "# Example usage\n",
    "predict_and_feedback(\"./Test_audio/116.wav\")"
   ]
  }
 ],
 "metadata": {
  "kernelspec": {
   "display_name": "Python (419venv)",
   "language": "python",
   "name": "venv"
  },
  "language_info": {
   "codemirror_mode": {
    "name": "ipython",
    "version": 3
   },
   "file_extension": ".py",
   "mimetype": "text/x-python",
   "name": "python",
   "nbconvert_exporter": "python",
   "pygments_lexer": "ipython3",
   "version": "3.10.9"
  }
 },
 "nbformat": 4,
 "nbformat_minor": 5
}
